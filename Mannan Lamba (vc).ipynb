{
 "cells": [
  {
   "cell_type": "code",
   "execution_count": 9,
   "id": "646bceda-62f2-4e31-88bd-6e6da143f782",
   "metadata": {},
   "outputs": [
    {
     "name": "stdout",
     "output_type": "stream",
     "text": [
      "<class 'str'>\n"
     ]
    }
   ],
   "source": [
    "\"\"\"a=1\n",
    "b=str(a)\n",
    "\n",
    "print(type(b))\"\"\"\n",
    "\n",
    "a=1\n",
    "print(type(str(a)))"
   ]
  },
  {
   "cell_type": "code",
   "execution_count": 6,
   "id": "9bd8b918-6941-4ed8-a11f-5fb537510ab6",
   "metadata": {},
   "outputs": [
    {
     "name": "stdin",
     "output_type": "stream",
     "text": [
      "Enter \n",
      "1 for addition\n",
      "2 for subtraction\n",
      " 3 for multiplication \n",
      " 4 for division\n",
      " 5 for Exit: 1\n",
      "Enter value 1: 24\n",
      "Enter value 2: 26\n"
     ]
    },
    {
     "name": "stdout",
     "output_type": "stream",
     "text": [
      "Sum of the two is: 50\n"
     ]
    },
    {
     "name": "stdin",
     "output_type": "stream",
     "text": [
      "Enter \n",
      "1 for addition\n",
      "2 for subtraction\n",
      " 3 for multiplication \n",
      " 4 for division\n",
      " 5 for Exit: 5\n"
     ]
    }
   ],
   "source": [
    "def calculator():\n",
    "    z=int(input(\"Enter \\n1 for addition\\n2 for subtraction\\n 3 for multiplication \\n 4 for division\\n 5 for Exit:\"))\n",
    "          \n",
    "    if z==1:\n",
    "        a1=int(input(\"Enter value 1:\"))\n",
    "        b1=int(input(\"Enter value 2:\"))\n",
    "        print(\"Sum of the two is:\",a1+b1)\n",
    "        return calculator()\n",
    "\n",
    "    elif z==2:\n",
    "        a2=int(input(\"Enter value 1:\"))\n",
    "        b2=int(input(\"Enter value 2:\"))\n",
    "        print(\"Subtraction of the two is:\",a2-b2)\n",
    "        return calculator()\n",
    "\n",
    "    elif z==3:\n",
    "        a3=int(input(\"Enter value 1:\"))\n",
    "        b3=int(input(\"Enter value 2:\"))\n",
    "        print(\"multiplication of the two is:\",a3*b3)\n",
    "        return calculator()\n",
    "\n",
    "    elif z==4:\n",
    "        a4=int(input(\"Enter value 1:\"))\n",
    "        b4=int(input(\"Enter value 2:\"))\n",
    "        print(\"division of the two is:\",a4/b4)\n",
    "        return calculator()\n",
    "\n",
    "    elif z==exit:\n",
    "        exit()\n",
    "\n",
    "calculator()"
   ]
  },
  {
   "cell_type": "code",
   "execution_count": 25,
   "id": "7f3672a6-687c-446c-9507-d386f76af488",
   "metadata": {},
   "outputs": [
    {
     "name": "stdin",
     "output_type": "stream",
     "text": [
      "Enter number 1: 24\n",
      "Enter number 2: 36\n",
      "Enter number 3: 20\n"
     ]
    },
    {
     "name": "stdout",
     "output_type": "stream",
     "text": [
      "Sum of numbers are: 80\n",
      "Average of numbers are: 26.666666666666668\n",
      "False\n",
      "Sum is divisible by 5\n"
     ]
    }
   ],
   "source": [
    "a=int(input(\"Enter number 1:\"))\n",
    "b=int(input(\"Enter number 2:\"))\n",
    "c=int(input(\"Enter number 3:\"))\n",
    "average=(a+b+c)/3\n",
    "Sum=a+b+c\n",
    "print(\"Sum of numbers are:\",Sum)\n",
    "print(\"Average of numbers are:\",average)\n",
    "\n",
    "avg=(average>50)\n",
    "print(avg)\n",
    "if Sum%5==0:\n",
    "    print(\"Sum is divisible by 5\")\n",
    "    \n",
    "\n"
   ]
  },
  {
   "cell_type": "code",
   "execution_count": 15,
   "id": "b13ea4f6-5638-4ddc-9716-56307392bf17",
   "metadata": {},
   "outputs": [
    {
     "name": "stdout",
     "output_type": "stream",
     "text": [
      "dict_values([34, 38, 25])\n",
      "{'Amit': 34, 'Aman': 38, 'Amar': 25}\n"
     ]
    }
   ],
   "source": [
    "a={\"Amit\":34,\n",
    "\"Aman\":38,\n",
    "\"Amar\":25}\n",
    "\n",
    "# print(a[34])\n",
    "\n",
    "item=a.values()\n",
    "\n",
    "print(item)\n",
    "print(a)"
   ]
  },
  {
   "cell_type": "code",
   "execution_count": 20,
   "id": "fe6aa9ee-0c09-4209-87ab-3aed1f85128d",
   "metadata": {},
   "outputs": [
    {
     "name": "stdout",
     "output_type": "stream",
     "text": [
      "True\n",
      "True\n",
      "False\n"
     ]
    }
   ],
   "source": [
    "a=4\n",
    "b=2\n",
    "print(a>b and a%b==0)\n",
    "print(a>b or a%b==0)\n",
    "print(not(a>b))"
   ]
  },
  {
   "cell_type": "code",
   "execution_count": 33,
   "id": "ad2a0931-d9f6-4c6c-b039-6cec49b8acca",
   "metadata": {},
   "outputs": [
    {
     "name": "stdout",
     "output_type": "stream",
     "text": [
      "6\n",
      "5\n",
      "4\n",
      "2\n"
     ]
    }
   ],
   "source": [
    "a=[6,5,4,2]\n",
    "for x in a:\n",
    "    print(x)"
   ]
  },
  {
   "cell_type": "code",
   "execution_count": 42,
   "id": "13b531bc-0b54-4d91-a6a3-cb97e42d67bd",
   "metadata": {},
   "outputs": [
    {
     "name": "stdin",
     "output_type": "stream",
     "text": [
      "Enter num1: 10\n",
      "Enter num2: 25\n"
     ]
    },
    {
     "name": "stdout",
     "output_type": "stream",
     "text": [
      "Addition if numbers are: 35\n",
      "Multiplication of numbers are: 250\n",
      "Numbers are not equal\n",
      "Num1 is not greater than num2\n",
      "Both numbers are not in list\n",
      "Num1 is in list\n",
      "Num2 is not in list\n"
     ]
    }
   ],
   "source": [
    "a=int(input(\"Enter num1:\"))\n",
    "b=int(input(\"Enter num2:\"))\n",
    "c=a+b\n",
    "d=a*b\n",
    "\n",
    "print(\"Addition if numbers are:\",c)\n",
    "print(\"Multiplication of numbers are:\",d)\n",
    "\n",
    "if c==d: print(\"Numbers are equal\")\n",
    "\n",
    "else: print(\"Numbers are not equal\")\n",
    "\n",
    "if a>b:print(\"Num1 is greater than num2\")\n",
    "\n",
    "else: print(\"Num1 is not greater than num2\")\n",
    "\n",
    "list=[10,20,30,40,50]\n",
    "\n",
    "if a and b in list: print(\"Both numbers are in list\")\n",
    "else:print(\"Both numbers are not in list\")\n",
    "\n",
    "if a in list:print(\"Num1 is in list\")\n",
    "else:print(\"Num1 is not in list\")\n",
    "\n",
    "if b in list:print(\"Num2 is in list\")\n",
    "else:print(\"Num2 is not in list\")"
   ]
  },
  {
   "cell_type": "code",
   "execution_count": 41,
   "id": "83124fa2-9038-4341-8bca-807eb15eb06e",
   "metadata": {},
   "outputs": [
    {
     "name": "stdout",
     "output_type": "stream",
     "text": [
      "True\n"
     ]
    }
   ],
   "source": [
    "a=6\n",
    "b=6\n",
    "print(a is b)"
   ]
  },
  {
   "cell_type": "code",
   "execution_count": 22,
   "id": "5009d9f6-637a-4fd9-8a34-72eee0b13fbc",
   "metadata": {},
   "outputs": [
    {
     "name": "stdin",
     "output_type": "stream",
     "text": [
      "Enter the quantity:\t harpic,dettol and tide\n"
     ]
    },
    {
     "ename": "ValueError",
     "evalue": "invalid literal for int() with base 10: 'harpic,dettol and tide'",
     "output_type": "error",
     "traceback": [
      "\u001b[1;31m---------------------------------------------------------------------------\u001b[0m",
      "\u001b[1;31mValueError\u001b[0m                                Traceback (most recent call last)",
      "Cell \u001b[1;32mIn[22], line 8\u001b[0m\n\u001b[0;32m      5\u001b[0m Tide_price\u001b[38;5;241m=\u001b[39m\u001b[38;5;241m300\u001b[39m\n\u001b[0;32m      7\u001b[0m \u001b[38;5;28;01mif\u001b[39;00m \u001b[38;5;124m\"\u001b[39m\u001b[38;5;124mharpic\u001b[39m\u001b[38;5;124m\"\u001b[39m \u001b[38;5;129;01min\u001b[39;00m name:\n\u001b[1;32m----> 8\u001b[0m     quantity\u001b[38;5;241m=\u001b[39m\u001b[38;5;28mint\u001b[39m(\u001b[38;5;28minput\u001b[39m(\u001b[38;5;124m\"\u001b[39m\u001b[38;5;124mEnter the quantity:\u001b[39m\u001b[38;5;130;01m\\t\u001b[39;00m\u001b[38;5;124m\"\u001b[39m))\n\u001b[0;32m      9\u001b[0m     bill\u001b[38;5;241m=\u001b[39mquantity\u001b[38;5;241m*\u001b[39mHarpic_price\n\u001b[0;32m     10\u001b[0m     \u001b[38;5;28mprint\u001b[39m(\u001b[38;5;124mf\u001b[39m\u001b[38;5;124m\"\u001b[39m\u001b[38;5;124mYour bill of harpic of quantity \u001b[39m\u001b[38;5;132;01m{\u001b[39;00m\u001b[38;5;241m2\u001b[39m\u001b[38;5;132;01m}\u001b[39;00m\u001b[38;5;124m is $\u001b[39m\u001b[38;5;132;01m{\u001b[39;00mbill\u001b[38;5;132;01m}\u001b[39;00m\u001b[38;5;124m\"\u001b[39m)\n",
      "\u001b[1;31mValueError\u001b[0m: invalid literal for int() with base 10: 'harpic,dettol and tide'"
     ]
    }
   ],
   "source": [
    "#### name=input(\"Enter name of the product:\\t\").lower()\n",
    "\n",
    "Harpic_price=250\n",
    "Dettol_price=30\n",
    "Tide_price=300\n",
    "\n",
    "if \"harpic\" in name:\n",
    "    quantity=int(input(\"Enter the quantity:\\t\"))\n",
    "    bill=quantity*Harpic_price\n",
    "    print(f\"Your bill of harpic of quantity {2} is ${bill}\")\n",
    "\n",
    "else:\n",
    "    print(\"Cart empty\")\n",
    "\n",
    "if \"dettol\" in name:\n",
    "    quantity=int(input(\"Enter the quantity:\\t\"))\n",
    "    bill=quantity*Dettol_price\n",
    "    print(f\"Your bill of dettol of quantity {2} is ${bill}\")\n",
    "\n",
    "else:\n",
    "    print(\"Cart empty\")\n",
    "\n",
    "if \"tide\" in name:\n",
    "    quantity=int(input(\"Enter the quantity:\\t\"))\n",
    "    bill=quantity*Tide_price\n",
    "    print(f\"Your bill of tide of quantity {2} is ${bill}\")\n",
    "\n",
    "else:\n",
    "    print(\"Cart empty\")"
   ]
  },
  {
   "cell_type": "code",
   "execution_count": 9,
   "id": "7c2fdfdb-2cfe-4788-a91f-900f6f3a231b",
   "metadata": {},
   "outputs": [
    {
     "name": "stdin",
     "output_type": "stream",
     "text": [
      "Enter 1st 5\n",
      "Enter 2nd 5\n",
      "Enter 3rd 5\n"
     ]
    },
    {
     "name": "stdout",
     "output_type": "stream",
     "text": [
      "Sum of 5, 5 and 5 are 15\n"
     ]
    },
    {
     "name": "stdin",
     "output_type": "stream",
     "text": [
      "Enter a name: mannan\n",
      "Enter a number 60\n"
     ]
    },
    {
     "name": "stdout",
     "output_type": "stream",
     "text": [
      "Sum of mannan and 60 are mannan60\n"
     ]
    }
   ],
   "source": [
    "a=int(input(\"Enter 1st\"))\n",
    "b=int(input(\"Enter 2nd\"))\n",
    "c=float(input(\"Enter 3rd\"))\n",
    "\n",
    "sum=a+b+c\n",
    "print(f\"Sum of {a}, {b} and {c} are {sum}\")\n",
    "\n",
    "d=input(\"Enter a name:\")\n",
    "e=int(input(\"Enter a number\"))\n",
    "sum=d+str(e)\n",
    "\n",
    "print(f\"Sum of {d} and {e} are {sum}\")"
   ]
  },
  {
   "cell_type": "code",
   "execution_count": 17,
   "id": "981bd38b-10cb-4a13-a2e4-7192d65a259d",
   "metadata": {},
   "outputs": [
    {
     "name": "stdin",
     "output_type": "stream",
     "text": [
      "Enter name:\t kanishk\n",
      "Enter age:\t 0\n"
     ]
    },
    {
     "name": "stdout",
     "output_type": "stream",
     "text": [
      "kanishk,are you alien!\n"
     ]
    }
   ],
   "source": [
    "name=input(\"Enter name:\\t\")\n",
    "age=int(input(\"Enter age:\\t\"))\n",
    "if age>=18:\n",
    "    print(f\"{name}, you are eligible to vote\")\n",
    "\n",
    "elif age<18 and age>0:\n",
    "    print(f\"{name}, you are not eligible to vote\")\n",
    "\n",
    "elif age<1:\n",
    "    print(f\"{name}, are you alien!\")"
   ]
  },
  {
   "cell_type": "code",
   "execution_count": 23,
   "id": "5aae5028-9f7e-423b-b83f-d8b32d5c6c01",
   "metadata": {},
   "outputs": [
    {
     "name": "stdout",
     "output_type": "stream",
     "text": [
      "A\n"
     ]
    }
   ],
   "source": [
    "x = 10\n",
    "if x > 5:\n",
    "    print('A')\n",
    "elif x > 3:\n",
    "    print('B')\n",
    "else:\n",
    "    print('C')"
   ]
  },
  {
   "cell_type": "code",
   "execution_count": 25,
   "id": "d8667ba1-0f9c-4ccb-b1bf-8ff4f2d7fe90",
   "metadata": {},
   "outputs": [
    {
     "ename": "SyntaxError",
     "evalue": "invalid syntax (4127196723.py, line 1)",
     "output_type": "error",
     "traceback": [
      "\u001b[1;36m  Cell \u001b[1;32mIn[25], line 1\u001b[1;36m\u001b[0m\n\u001b[1;33m    if (x > 10): then print('High')\u001b[0m\n\u001b[1;37m                      ^\u001b[0m\n\u001b[1;31mSyntaxError\u001b[0m\u001b[1;31m:\u001b[0m invalid syntax\n"
     ]
    }
   ],
   "source": [
    "if (x > 10): then print('High')"
   ]
  },
  {
   "cell_type": "code",
   "execution_count": 32,
   "id": "704bfe62-c59e-4031-b0bb-b64a4d1d474c",
   "metadata": {},
   "outputs": [
    {
     "name": "stdin",
     "output_type": "stream",
     "text": [
      "Enter number 0\n"
     ]
    },
    {
     "name": "stdout",
     "output_type": "stream",
     "text": [
      "0\n"
     ]
    }
   ],
   "source": [
    "num=int(input(\"Enter number\"))\n",
    "\n",
    "if num > 0:\n",
    "    print(f\"{num} is a positive number.\")\n",
    "elif num < 0:\n",
    "    print(f\"{num} is a negative number.\")\n",
    "else:\n",
    "    print(f\"{num}\")"
   ]
  },
  {
   "cell_type": "code",
   "execution_count": 39,
   "id": "42ba07f9-cc69-480f-84ff-a440119f219d",
   "metadata": {},
   "outputs": [
    {
     "name": "stdin",
     "output_type": "stream",
     "text": [
      "Enter age:\t 18\n"
     ]
    },
    {
     "name": "stdout",
     "output_type": "stream",
     "text": [
      "Adult\n"
     ]
    }
   ],
   "source": [
    "age=int(input(\"Enter age:\\t\"))\n",
    "\n",
    "if age<=13 or age<18:\n",
    "    print(\"Teen\")\n",
    "\n",
    "elif age>=18:\n",
    "    print(\"Adult\")"
   ]
  },
  {
   "cell_type": "code",
   "execution_count": 41,
   "id": "d88aeb1b-71db-4135-865d-21d8f98fcb6a",
   "metadata": {},
   "outputs": [
    {
     "name": "stdin",
     "output_type": "stream",
     "text": [
      "Enter number 4\n"
     ]
    },
    {
     "name": "stdout",
     "output_type": "stream",
     "text": [
      "4 is even\n"
     ]
    }
   ],
   "source": [
    "num=int(input(\"Enter number\"))\n",
    "\n",
    "if num%2==0:\n",
    "    print(f\"{num} is even\")\n",
    "\n",
    "else:\n",
    "    print(f\"{num} is odd\")"
   ]
  },
  {
   "cell_type": "code",
   "execution_count": 49,
   "id": "d50b70ac-f013-4935-961b-5fd1641f6296",
   "metadata": {},
   "outputs": [
    {
     "name": "stdin",
     "output_type": "stream",
     "text": [
      "Enter marks out of 100\n",
      ": 61\n"
     ]
    },
    {
     "name": "stdout",
     "output_type": "stream",
     "text": [
      "C\n"
     ]
    }
   ],
   "source": [
    "a=int(input(\"Enter marks out of 100\\n:\"))\n",
    "\n",
    "\n",
    "if (a>90):\n",
    "    print(\"A\")\n",
    "elif (a>75):\n",
    "    print(\"B\")\n",
    "elif (a>60):\n",
    "    print(\"C\")\n",
    "else:\n",
    "    print(\"fail\")"
   ]
  },
  {
   "cell_type": "code",
   "execution_count": 69,
   "id": "282254aa-043f-4e2a-8bb7-4750ad72e057",
   "metadata": {},
   "outputs": [
    {
     "name": "stdin",
     "output_type": "stream",
     "text": [
      "Enter first number:  45\n",
      "Enter second number:  67\n",
      "Enter third number:  89\n"
     ]
    },
    {
     "name": "stdout",
     "output_type": "stream",
     "text": [
      "Greatest number is: 89\n"
     ]
    }
   ],
   "source": [
    "a = int(input(\"Enter first number: \"))\n",
    "b = int(input(\"Enter second number: \"))\n",
    "c = int(input(\"Enter third number: \"))\n",
    "\n",
    "if a > b:\n",
    "    if a > c:\n",
    "        print(\"Greatest number is:\", a)\n",
    "    else:\n",
    "        print(\"Greatest number is:\", c)\n",
    "else:\n",
    "    if b > c:\n",
    "        print(\"Greatest number is:\", b)\n",
    "    else:\n",
    "        print(\"Greatest number is:\", c)"
   ]
  },
  {
   "cell_type": "code",
   "execution_count": 57,
   "id": "8f89845e-9683-4b5e-a9b1-23cf7f22bc72",
   "metadata": {},
   "outputs": [
    {
     "name": "stdout",
     "output_type": "stream",
     "text": [
      "90\n"
     ]
    }
   ],
   "source": [
    "a=90.7\n",
    "print(int(a))"
   ]
  },
  {
   "cell_type": "code",
   "execution_count": 64,
   "id": "97d80c27-875d-47a8-b1ed-7822eb89c687",
   "metadata": {},
   "outputs": [
    {
     "name": "stdin",
     "output_type": "stream",
     "text": [
      "Enter:\t manan\n"
     ]
    },
    {
     "name": "stdout",
     "output_type": "stream",
     "text": [
      "Length of manan is >= 5\n"
     ]
    }
   ],
   "source": [
    "a=input(\"Enter:\\t\")\n",
    "length=len(a)\n",
    "if len(a)>=5:\n",
    "    print(f\"Length of {a} is >= 5\")\n",
    "\n",
    "else:\n",
    "    print(f\"Length of {a} is < 5\")"
   ]
  },
  {
   "cell_type": "code",
   "execution_count": 68,
   "id": "d7455d1d-0a2c-4f7f-829d-8f8666f58506",
   "metadata": {},
   "outputs": [
    {
     "name": "stdin",
     "output_type": "stream",
     "text": [
      "Enter marks:\t 39\n"
     ]
    },
    {
     "name": "stdout",
     "output_type": "stream",
     "text": [
      "Fail\n"
     ]
    }
   ],
   "source": [
    "a=int(input(\"Enter marks:\\t\"))\n",
    "\n",
    "if a >= 40:\n",
    "    print(\"Pass\")\n",
    "\n",
    "else:\n",
    "    print(\"Fail\")"
   ]
  },
  {
   "cell_type": "code",
   "execution_count": 94,
   "id": "57cd5f60-8f4e-4139-bba0-f4952c9a534e",
   "metadata": {},
   "outputs": [
    {
     "name": "stdin",
     "output_type": "stream",
     "text": [
      "Enter number: 6\n"
     ]
    },
    {
     "name": "stdout",
     "output_type": "stream",
     "text": [
      "6! = 720\n"
     ]
    }
   ],
   "source": [
    "#5! = 5x4x3x2x1\n",
    "\n",
    "a=int(input(\"Enter number:\"))\n",
    "m=1\n",
    "\n",
    "for i in range(1,a+1):\n",
    "    m=m*i\n",
    "    print(m)\n",
    "print(f\"{a}! = {m}\")"
   ]
  },
  {
   "cell_type": "code",
   "execution_count": 7,
   "id": "3ed8554c-e546-4a2d-85cd-48d21cddbd14",
   "metadata": {},
   "outputs": [
    {
     "name": "stdout",
     "output_type": "stream",
     "text": [
      "2 X 1= 2\n",
      "2 X 2= 4\n",
      "2 X 3= 6\n",
      "2 X 4= 8\n",
      "2 X 5= 10\n",
      "2 X 6= 12\n",
      "2 X 7= 14\n",
      "2 X 8= 16\n",
      "2 X 9= 18\n",
      "2 X 10= 20\n"
     ]
    }
   ],
   "source": [
    "a=2\n",
    "j=1\n",
    "\n",
    "while j<=10:\n",
    "    m=a*j\n",
    "    print(f\"{a} X {j }= {m}\")\n",
    "    j+=1"
   ]
  },
  {
   "cell_type": "code",
   "execution_count": 1,
   "id": "1714ce51-ccb0-4a81-a39b-a217e6c12042",
   "metadata": {},
   "outputs": [
    {
     "name": "stdin",
     "output_type": "stream",
     "text": [
      "Enter password: m'\n"
     ]
    },
    {
     "name": "stdout",
     "output_type": "stream",
     "text": [
      "Wrong password. 3 attempts left\n"
     ]
    },
    {
     "name": "stdin",
     "output_type": "stream",
     "text": [
      "Enter password: mannan\n"
     ]
    },
    {
     "name": "stdout",
     "output_type": "stream",
     "text": [
      "Unlocked\n"
     ]
    }
   ],
   "source": [
    "i=3\n",
    "password=\"mannan\"\n",
    "\n",
    "while i<=3 and i>=0:\n",
    "    a=input(\"Enter password:\")\n",
    "    \n",
    "    if password!=a:\n",
    "        print(f\"Wrong password. {i} attempts left\")\n",
    "        i-=1\n",
    "\n",
    "    elif password==a:\n",
    "        print(\"Unlocked\")\n",
    "        break\n",
    "\n",
    "    elif i==0:\n",
    "        print(\"Phone locked\")\n",
    "    i-=1"
   ]
  },
  {
   "cell_type": "code",
   "execution_count": 3,
   "id": "7953293c-6aa3-4708-9686-9e9a2064b00d",
   "metadata": {},
   "outputs": [
    {
     "name": "stdin",
     "output_type": "stream",
     "text": [
      "Enter password: mannan\n"
     ]
    },
    {
     "name": "stdout",
     "output_type": "stream",
     "text": [
      "Unlocked\n"
     ]
    },
    {
     "name": "stdin",
     "output_type": "stream",
     "text": [
      "Enter password: m\n"
     ]
    },
    {
     "name": "stdout",
     "output_type": "stream",
     "text": [
      "Wrong password. 7 attempts left\n"
     ]
    },
    {
     "name": "stdin",
     "output_type": "stream",
     "text": [
      "Enter password: m\n"
     ]
    },
    {
     "name": "stdout",
     "output_type": "stream",
     "text": [
      "Wrong password. 6 attempts left\n"
     ]
    },
    {
     "name": "stdin",
     "output_type": "stream",
     "text": [
      "Enter password: m\n"
     ]
    },
    {
     "name": "stdout",
     "output_type": "stream",
     "text": [
      "Wrong password. 5 attempts left\n"
     ]
    },
    {
     "name": "stdin",
     "output_type": "stream",
     "text": [
      "Enter password: m\n"
     ]
    },
    {
     "name": "stdout",
     "output_type": "stream",
     "text": [
      "Skipped\n"
     ]
    },
    {
     "name": "stdin",
     "output_type": "stream",
     "text": [
      "Enter password: m\n"
     ]
    },
    {
     "name": "stdout",
     "output_type": "stream",
     "text": [
      "Wrong password. 3 attempts left\n"
     ]
    },
    {
     "name": "stdin",
     "output_type": "stream",
     "text": [
      "Enter password: m\n"
     ]
    },
    {
     "name": "stdout",
     "output_type": "stream",
     "text": [
      "Wrong password. 2 attempts left\n",
      "Phone locked\n"
     ]
    }
   ],
   "source": [
    "i=8\n",
    "password=\"mannan\"\n",
    "\n",
    "while i<=8 and i>=0:\n",
    "    a=input(\"Enter password:\")\n",
    "\n",
    "    if i==2 and password!=a:\n",
    "        print(f\"Wrong password. {i} attempts left\")\n",
    "        print(\"Phone locked\")\n",
    "        break\n",
    "\n",
    "    elif i==4:\n",
    "        print(\"Skipped\")\n",
    "        i-=1\n",
    "        continue\n",
    "\n",
    "    elif password==a:\n",
    "        print(\"Unlocked\")\n",
    "        exit()\n",
    "    \n",
    "    elif password!=a:\n",
    "        print(f\"Wrong password. {i} attempts left\")\n",
    "        \n",
    "    i-=1"
   ]
  },
  {
   "cell_type": "code",
   "execution_count": 31,
   "id": "d90d4eeb-745e-4f35-85ec-150f9186396f",
   "metadata": {},
   "outputs": [
    {
     "name": "stdin",
     "output_type": "stream",
     "text": [
      "Factorial: 5\n"
     ]
    },
    {
     "name": "stdout",
     "output_type": "stream",
     "text": [
      "5! = 120\n"
     ]
    }
   ],
   "source": [
    "m=int(input(\"Factorial:\"))\n",
    "f=m\n",
    "\n",
    "for i in range(1,m):\n",
    "    f=f*i\n",
    "\n",
    "print(f\"{m}! = {f}\")"
   ]
  },
  {
   "cell_type": "code",
   "execution_count": 34,
   "id": "faa101a9-047b-4200-9709-ba238c35b0e2",
   "metadata": {},
   "outputs": [
    {
     "name": "stdout",
     "output_type": "stream",
     "text": [
      "13\n"
     ]
    }
   ],
   "source": [
    "a=4\n",
    "b=5\n",
    "print(a|b)"
   ]
  },
  {
   "cell_type": "code",
   "execution_count": 7,
   "id": "e81f31f4-64b1-4d1c-9725-50c6e7cf08b2",
   "metadata": {},
   "outputs": [
    {
     "name": "stdin",
     "output_type": "stream",
     "text": [
      "Enter a value 21\n"
     ]
    },
    {
     "name": "stdout",
     "output_type": "stream",
     "text": [
      "21 is divisible by 3 and 7\n"
     ]
    }
   ],
   "source": [
    "#Q1. Write a Python program to check if a number is divisible by both 3 and 7\n",
    "\n",
    "a=int(input(\"Enter a value\"))\n",
    "\n",
    "if a%3==0 and a%7==0:\n",
    "      print(f\"{a} is divisible by 3 and 7\")\n",
    "\n",
    "else:\n",
    "    print(f\"{a} is not divisible by 3 and 7\")"
   ]
  },
  {
   "cell_type": "code",
   "execution_count": 3,
   "id": "7cd55bba-1b51-4072-be8b-9084137bb635",
   "metadata": {},
   "outputs": [
    {
     "name": "stdout",
     "output_type": "stream",
     "text": [
      "2\n",
      "4\n",
      "6\n",
      "8\n",
      "10\n",
      "12\n",
      "14\n",
      "16\n",
      "18\n",
      "20\n",
      "22\n",
      "24\n",
      "26\n",
      "28\n",
      "30\n",
      "32\n",
      "34\n",
      "36\n",
      "38\n",
      "40\n",
      "42\n",
      "44\n",
      "46\n",
      "48\n",
      "50\n",
      "52\n",
      "54\n",
      "56\n",
      "58\n",
      "60\n",
      "62\n",
      "64\n",
      "66\n",
      "68\n",
      "70\n",
      "72\n",
      "74\n",
      "76\n",
      "78\n",
      "80\n",
      "82\n",
      "84\n",
      "86\n",
      "88\n",
      "90\n",
      "92\n",
      "94\n",
      "96\n",
      "98\n",
      "100\n"
     ]
    }
   ],
   "source": [
    "#Q2. Write a program to print all even numbers between 1 and 100 using a for loop.\n",
    "\n",
    "for i in range(1,101):\n",
    "    i/2\n",
    "    if i%2==0:\n",
    "        print(i)"
   ]
  },
  {
   "cell_type": "code",
   "execution_count": 9,
   "id": "87d5b422-bad4-4f69-b68d-1d8cd192cf43",
   "metadata": {},
   "outputs": [
    {
     "name": "stdin",
     "output_type": "stream",
     "text": [
      "Enter a value 45\n",
      "Enter a value 47\n",
      "Enter a value 46\n"
     ]
    },
    {
     "name": "stdout",
     "output_type": "stream",
     "text": [
      "47\n"
     ]
    }
   ],
   "source": [
    "#Q3. Write a Python program to input three numbers and print the greatest one using nested if-else.\n",
    "\n",
    "a=int(input(\"Enter a value\"))\n",
    "b=int(input(\"Enter a value\"))\n",
    "c=int(input(\"Enter a value\"))\n",
    "\n",
    "if a>b:\n",
    "    if a>c:\n",
    "        print(a)\n",
    "    else:\n",
    "        print(c)\n",
    "\n",
    "if b>a:\n",
    "    if b>c:\n",
    "        print(b)\n",
    "    else:\n",
    "        print(c)"
   ]
  },
  {
   "cell_type": "code",
   "execution_count": 10,
   "id": "46a6e3d4-75f1-4663-8d0a-a1b3e5162caf",
   "metadata": {},
   "outputs": [
    {
     "name": "stdout",
     "output_type": "stream",
     "text": [
      "50\n",
      "49\n",
      "48\n",
      "47\n",
      "46\n",
      "45\n",
      "44\n",
      "43\n",
      "42\n",
      "41\n",
      "40\n",
      "39\n",
      "38\n",
      "37\n",
      "36\n",
      "35\n",
      "34\n",
      "33\n",
      "32\n",
      "31\n",
      "30\n",
      "29\n",
      "28\n",
      "27\n",
      "26\n",
      "25\n",
      "24\n",
      "23\n",
      "22\n",
      "21\n",
      "20\n",
      "19\n",
      "18\n",
      "17\n",
      "16\n",
      "15\n",
      "14\n",
      "13\n",
      "12\n",
      "11\n",
      "10\n",
      "9\n",
      "8\n",
      "7\n",
      "6\n",
      "5\n",
      "4\n",
      "3\n",
      "2\n",
      "1\n"
     ]
    }
   ],
   "source": [
    "#Q4. WAP to print numbers from 50 to 1 in reverse using a while loop.\n",
    "\n",
    "i=50\n",
    "\n",
    "while i>0:\n",
    "    print(i)\n",
    "    i-=1"
   ]
  },
  {
   "cell_type": "code",
   "execution_count": 13,
   "id": "77f3e369-6ebb-4771-93d8-3139d4d62f1b",
   "metadata": {},
   "outputs": [
    {
     "name": "stdin",
     "output_type": "stream",
     "text": [
      "Enter a value 5\n"
     ]
    },
    {
     "name": "stdout",
     "output_type": "stream",
     "text": [
      "5 X 1 = 5\n",
      "5 X 2 = 10\n",
      "5 X 3 = 15\n",
      "5 X 4 = 20\n",
      "5 X 5 = 25\n",
      "5 X 6 = 30\n",
      "5 X 7 = 35\n",
      "5 X 8 = 40\n",
      "5 X 9 = 45\n",
      "5 X 10 = 50\n"
     ]
    }
   ],
   "source": [
    "#Q5. WAP to take a number and print its multiplication table up to 10.\n",
    "\n",
    "m=int(input(\"Enter a value\"))\n",
    "\n",
    "for i in range(1,11):\n",
    "    a=m*i\n",
    "    print(f\"{m} X {i} = {a}\")"
   ]
  },
  {
   "cell_type": "code",
   "execution_count": 15,
   "id": "ef7e0bdb-8272-4d1b-9f53-dce0876b8155",
   "metadata": {},
   "outputs": [
    {
     "name": "stdin",
     "output_type": "stream",
     "text": [
      "Enter a value 5\n"
     ]
    },
    {
     "name": "stdout",
     "output_type": "stream",
     "text": [
      "101\n"
     ]
    }
   ],
   "source": [
    "#Q6. Write a program to count how many numbers between 1 to 100 are divisible by 5.\n",
    "\n",
    "m=int(input(\"Enter a value\"))\n",
    "i=0\n",
    "\n",
    "if m%5==0:\n",
    "    for i in range(1,101):\n",
    "        i+=1\n",
    "\n",
    "print(i)"
   ]
  },
  {
   "cell_type": "code",
   "execution_count": 18,
   "id": "4312c478-39d0-4afb-820d-c762ee3d433c",
   "metadata": {},
   "outputs": [
    {
     "name": "stdin",
     "output_type": "stream",
     "text": [
      "Enter year: 2016\n"
     ]
    },
    {
     "name": "stdout",
     "output_type": "stream",
     "text": [
      "2016 is a leap year\n"
     ]
    }
   ],
   "source": [
    "#Q7. WAP to check whether a given year is a leap year.\n",
    "\n",
    "year=int(input(\"Enter year:\"))\n",
    "\n",
    "if year%4==0:\n",
    "    print(f\"{year} is a leap year\")\n",
    "\n",
    "else:\n",
    "    print(f\"{year} is not a leap year\")"
   ]
  },
  {
   "cell_type": "code",
   "execution_count": null,
   "id": "e886dace-b185-4346-81ca-a52ae2c0e521",
   "metadata": {},
   "outputs": [],
   "source": [
    "#Q8. WAP to print the factorial of a number using for loop.\n",
    "\n",
    "m=int(input(\"Factorial:\"))\n",
    "f=m\n",
    "\n",
    "for i in range(1,m):\n",
    "    f=f*i\n",
    "\n",
    "print(f\"{m}! = {f}\")"
   ]
  },
  {
   "cell_type": "code",
   "execution_count": 21,
   "id": "0b3700c0-b8d5-41df-8f7b-300fbc6389d2",
   "metadata": {},
   "outputs": [
    {
     "name": "stdin",
     "output_type": "stream",
     "text": [
      "Enter value: -1\n"
     ]
    },
    {
     "name": "stdout",
     "output_type": "stream",
     "text": [
      "-1 is negitive\n"
     ]
    }
   ],
   "source": [
    "#Q9. WAP to check if a number is positive, negative or zero using if-elif-else.\n",
    "\n",
    "m=int(input(\"Enter value:\"))\n",
    "\n",
    "if m>0:\n",
    "    print(f\"{m} is positive\")\n",
    "\n",
    "if m<0:\n",
    "    print(f\"{m} is negitive\")\n",
    "\n",
    "if m==0:\n",
    "    print(f\"{m} is zero\")"
   ]
  },
  {
   "cell_type": "code",
   "execution_count": 27,
   "id": "00256bc7-b4e4-45a7-8340-b664980a6f09",
   "metadata": {},
   "outputs": [
    {
     "name": "stdin",
     "output_type": "stream",
     "text": [
      "Enter year: 14\n"
     ]
    },
    {
     "name": "stdout",
     "output_type": "stream",
     "text": [
      "14 is a even and greater than 10\n"
     ]
    }
   ],
   "source": [
    "#Q10. WAP to take a number as input and print whether it's even and greater than 10.\n",
    "\n",
    "a=int(input(\"Enter year:\"))\n",
    "\n",
    "if a%2==0 and a>10:\n",
    "    print(f\"{a} is a even number and greater than 10\")\n",
    "\n",
    "else:\n",
    "    print(f\"{a} is not a even number and greater than 10\")"
   ]
  },
  {
   "cell_type": "code",
   "execution_count": 32,
   "id": "89e18370-b097-45b6-bbc9-74235c86c0e3",
   "metadata": {},
   "outputs": [
    {
     "name": "stdout",
     "output_type": "stream",
     "text": [
      "3\n",
      "6\n",
      "9\n",
      "12\n",
      "15\n",
      "18\n",
      "21\n",
      "24\n",
      "27\n",
      "30\n",
      "33\n",
      "36\n",
      "39\n",
      "42\n",
      "45\n",
      "48\n"
     ]
    }
   ],
   "source": [
    "#Q11. WAP to print only those numbers between 1 to 50 which are not divisible by 3 (use continue).\n",
    "\n",
    "for i in range(1,51):\n",
    "    if i%3==0:\n",
    "        print(i)\n",
    "        if i==6:\n",
    "            continue\n",
    "    "
   ]
  },
  {
   "cell_type": "code",
   "execution_count": 42,
   "id": "fdb72ad3-ed31-4051-8401-1a5a6e3c0fd1",
   "metadata": {},
   "outputs": [
    {
     "name": "stdout",
     "output_type": "stream",
     "text": [
      "M\n",
      "a\n",
      "n\n",
      "n\n",
      "a\n",
      "n\n"
     ]
    }
   ],
   "source": [
    "#Q12. WAP to print characters of a string one by one and stop when 'z' is encountered (use break).\n",
    "\n",
    "a = \"Mannan\"\n",
    "\n",
    "for i in a:\n",
    "    print(i)\n"
   ]
  },
  {
   "cell_type": "code",
   "execution_count": 47,
   "id": "333814f9-91a4-4a2d-b117-9ba814803272",
   "metadata": {},
   "outputs": [
    {
     "name": "stdin",
     "output_type": "stream",
     "text": [
      "Enter value: 4557\n"
     ]
    },
    {
     "name": "stdout",
     "output_type": "stream",
     "text": [
      "4557\n",
      "4557\n",
      "4557\n",
      "4557\n"
     ]
    }
   ],
   "source": [
    "#Q13. WAP to count the number of digits in a number using while loop.\n",
    "\n",
    "num = int(input(\"Enter a number: \"))\n",
    "count = 0\n",
    "\n",
    "if num == 0:\n",
    "    count = 1\n",
    "else:\n",
    "    while num != 0:\n",
    "        num = num // 10\n",
    "        count += 1\n",
    "\n",
    "print(\"Number of digits:\", count)\n"
   ]
  },
  {
   "cell_type": "code",
   "execution_count": 2,
   "id": "b4760c1f-36e8-4a5c-8efa-025e69a8f7c3",
   "metadata": {},
   "outputs": [],
   "source": [
    "#Q14. WAP to reverse a given number (e.g., 5432 → 2345)\n",
    "\n",
    "# for i in range(5432,2344,-1):\n",
    "#     print(i)"
   ]
  },
  {
   "cell_type": "code",
   "execution_count": 41,
   "id": "ca8eeac3-eb23-471c-8640-da4aaf1a948d",
   "metadata": {},
   "outputs": [
    {
     "name": "stdin",
     "output_type": "stream",
     "text": [
      "Enter a value 5\n",
      "Enter a value 5\n",
      "Enter a value 5\n",
      "Enter a value 5\n",
      "Enter a value 5\n"
     ]
    },
    {
     "name": "stdout",
     "output_type": "stream",
     "text": [
      "5.0\n"
     ]
    }
   ],
   "source": [
    "#Q15. WAP to take 5 numbers as input and print their average\n",
    "\n",
    "a=int(input(\"Enter a value\"))\n",
    "b=int(input(\"Enter a value\"))\n",
    "c=int(input(\"Enter a value\"))\n",
    "d=int(input(\"Enter a value\"))\n",
    "e=int(input(\"Enter a value\"))\n",
    "\n",
    "print((a+b+c+d+e)/5)"
   ]
  },
  {
   "cell_type": "code",
   "execution_count": 49,
   "id": "7ae983f3-1836-44a9-bed5-a45c6ea70a94",
   "metadata": {},
   "outputs": [
    {
     "name": "stdin",
     "output_type": "stream",
     "text": [
      "Enter a character:  apple\n"
     ]
    },
    {
     "name": "stdout",
     "output_type": "stream",
     "text": [
      "It is not a vowel.\n"
     ]
    }
   ],
   "source": [
    "#Q16. WAP to check whether a character entered by user is a vowel or not.\n",
    "\n",
    "c=input(\"Enter a character: \").lower()\n",
    "\n",
    "if c in 'aeiou':\n",
    "    print(\"It is a vowel.\")\n",
    "else:\n",
    "    print(\"It is not a vowel.\")\n",
    "\n"
   ]
  },
  {
   "cell_type": "code",
   "execution_count": null,
   "id": "1c950b47-4933-407a-9503-ca65e4ff9143",
   "metadata": {},
   "outputs": [],
   "source": [
    "for i in range(1, 31):\n",
    "    if i % 4 == 0:\n",
    "        continue\n",
    "    print(i, end=\" \")\n"
   ]
  },
  {
   "cell_type": "code",
   "execution_count": null,
   "id": "2d6f4006-0807-48a3-917f-5ad22ad3ee7c",
   "metadata": {},
   "outputs": [],
   "source": [
    "a = int(input(\"Enter first number: \"))\n",
    "b = int(input(\"Enter second number: \"))\n",
    "\n",
    "a = a + b\n",
    "b = a - b\n",
    "a = a - b\n",
    "\n",
    "print(\"After swapping:\")\n",
    "print(\"First number:\", a)\n",
    "print(\"Second number:\", b)\n"
   ]
  },
  {
   "cell_type": "code",
   "execution_count": null,
   "id": "69651787-9bcc-4b7d-9725-dc88ef0303c2",
   "metadata": {},
   "outputs": [],
   "source": [
    "i = 100\n",
    "while i >= 50:\n",
    "    if i % 2 != 0:\n",
    "        print(i, end=\" \")\n",
    "    i -= 1\n"
   ]
  },
  {
   "cell_type": "code",
   "execution_count": null,
   "id": "81474db7-d7a2-4370-9195-0091b254c469",
   "metadata": {},
   "outputs": [],
   "source": [
    "count = 0\n",
    "\n",
    "for i in range(10):\n",
    "    num = int(input(f\"Enter number {i+1}: \"))\n",
    "    if num > 0:\n",
    "        count += 1\n",
    "\n",
    "print(\"Number of positive numbers:\", count)\n"
   ]
  },
  {
   "cell_type": "code",
   "execution_count": 2,
   "id": "b2bf1438-dc93-4756-9ad5-ce6c8ecb8b95",
   "metadata": {},
   "outputs": [
    {
     "name": "stdout",
     "output_type": "stream",
     "text": [
      "2\n",
      "4\n",
      "6\n",
      "8\n",
      "10\n",
      "12\n",
      "14\n",
      "16\n",
      "18\n",
      "20\n",
      "22\n",
      "24\n",
      "26\n",
      "28\n",
      "30\n",
      "32\n",
      "34\n",
      "36\n",
      "38\n",
      "40\n",
      "42\n",
      "44\n",
      "46\n",
      "48\n",
      "50\n"
     ]
    }
   ],
   "source": [
    "def Even():\n",
    "    i=2\n",
    "    while i<51:\n",
    "        print(i)\n",
    "        i+=2\n",
    "\n",
    "Even()"
   ]
  },
  {
   "cell_type": "code",
   "execution_count": 6,
   "id": "960ea8f3-f3f6-4bf8-9b3b-6e914a386f78",
   "metadata": {},
   "outputs": [
    {
     "name": "stdout",
     "output_type": "stream",
     "text": [
      "All marks: (12, 23, 34)\n",
      "69\n"
     ]
    }
   ],
   "source": [
    "def marks(*marks):\n",
    "    print(\"All marks:\",marks)\n",
    "    print(sum(marks))\n",
    "\n",
    "marks(12, 23, 34)"
   ]
  },
  {
   "cell_type": "code",
   "execution_count": 9,
   "id": "e990abed-c364-44ae-961b-54482efa1c37",
   "metadata": {},
   "outputs": [
    {
     "data": {
      "text/plain": [
       "9"
      ]
     },
     "execution_count": 9,
     "metadata": {},
     "output_type": "execute_result"
    }
   ],
   "source": [
    "def square(n):\n",
    "    return n ** 2\n",
    "\n",
    "square(3)"
   ]
  },
  {
   "cell_type": "code",
   "execution_count": 10,
   "id": "98e45bb3-cb40-4a4c-8ab9-5ede8399ad98",
   "metadata": {},
   "outputs": [
    {
     "data": {
      "text/plain": [
       "11"
      ]
     },
     "execution_count": 10,
     "metadata": {},
     "output_type": "execute_result"
    }
   ],
   "source": [
    "def add(a, b):\n",
    "    return a + b\n",
    "\n",
    "add(5, 6)"
   ]
  },
  {
   "cell_type": "code",
   "execution_count": 13,
   "id": "5eb9a091-f527-48a3-ac8e-30d1b7864de8",
   "metadata": {},
   "outputs": [
    {
     "data": {
      "text/plain": [
       "True"
      ]
     },
     "execution_count": 13,
     "metadata": {},
     "output_type": "execute_result"
    }
   ],
   "source": [
    "def is_even(n):\n",
    "    return n % 2 == 0\n",
    "\n",
    "is_even(6)"
   ]
  },
  {
   "cell_type": "code",
   "execution_count": 14,
   "id": "6467acb9-16f6-4ac8-bc9c-67beccc5b076",
   "metadata": {},
   "outputs": [
    {
     "data": {
      "text/plain": [
       "120"
      ]
     },
     "execution_count": 14,
     "metadata": {},
     "output_type": "execute_result"
    }
   ],
   "source": [
    "def factorial(n):\n",
    "    if n == 0 or n == 1:\n",
    "        return 1\n",
    "    return n * factorial(n - 1)\n",
    "\n",
    "factorial(5)"
   ]
  },
  {
   "cell_type": "code",
   "execution_count": 16,
   "id": "09c4d667-632f-455d-8530-709f699871e9",
   "metadata": {},
   "outputs": [
    {
     "data": {
      "text/plain": [
       "14"
      ]
     },
     "execution_count": 16,
     "metadata": {},
     "output_type": "execute_result"
    }
   ],
   "source": [
    "def largest(lst):\n",
    "    return max(lst)\n",
    "\n",
    "largest([1, 5, 9, 14, 5])"
   ]
  },
  {
   "cell_type": "code",
   "execution_count": 27,
   "id": "a86f071f-fd6a-48dd-83e2-b82d26992aa6",
   "metadata": {},
   "outputs": [
    {
     "name": "stdout",
     "output_type": "stream",
     "text": [
      "n a n n a m "
     ]
    }
   ],
   "source": [
    "def reverse_string(s):\n",
    "    for i in range(len(s)-1, -1, -1):\n",
    "        print(s[i],  end=\" \") \n",
    "\n",
    "reverse_string(\"mannan\")"
   ]
  },
  {
   "cell_type": "code",
   "execution_count": 31,
   "id": "61f16d18-66e0-4ea4-8a1f-17323f60621b",
   "metadata": {},
   "outputs": [
    {
     "data": {
      "text/plain": [
       "[0, 1, 1, 2, 3, 5, 8, 13, 21, 34]"
      ]
     },
     "execution_count": 31,
     "metadata": {},
     "output_type": "execute_result"
    }
   ],
   "source": [
    "def fibonacci(n):\n",
    "    l = [0, 1]\n",
    "    for i in range(2, n):\n",
    "        l.append(l[-1] + l[-2])\n",
    "    return l[:n]\n",
    "\n",
    "fibonacci(10)"
   ]
  },
  {
   "cell_type": "code",
   "execution_count": 51,
   "id": "f558ee4f-eeaa-4a55-8f46-078a6386d1bf",
   "metadata": {},
   "outputs": [
    {
     "name": "stdout",
     "output_type": "stream",
     "text": [
      "2\n"
     ]
    }
   ],
   "source": [
    "def count_vowels(s):\n",
    "    vowels = \"aeiouAEIOU\"\n",
    "    count = 0\n",
    "    for char in s:\n",
    "        if char in vowels:\n",
    "            count += 1\n",
    "    print(count)\n",
    "\n",
    "count_vowels(\"apple\")"
   ]
  },
  {
   "cell_type": "code",
   "execution_count": 53,
   "id": "225f844e-3049-45cb-bc2e-9da5a3eff82c",
   "metadata": {},
   "outputs": [
    {
     "data": {
      "text/plain": [
       "110"
      ]
     },
     "execution_count": 53,
     "metadata": {},
     "output_type": "execute_result"
    }
   ],
   "source": [
    "def sum_args(*args):\n",
    "    return sum(args)\n",
    "\n",
    "sum_args(32, 54, 24)"
   ]
  },
  {
   "cell_type": "code",
   "execution_count": 84,
   "id": "9bf34f56-c233-4b3c-916c-e4305bfc7962",
   "metadata": {},
   "outputs": [
    {
     "name": "stdout",
     "output_type": "stream",
     "text": [
      "Reversed: naman\n",
      "naman is a palindrome\n"
     ]
    }
   ],
   "source": [
    "def is_palindrome(s):\n",
    "    reversed_s = \"\"\n",
    "    for i in range(len(s)-1, -1, -1):\n",
    "        reversed_s+=s[i]\n",
    "    print(f\"Reversed: {reversed_s}\")\n",
    "    \n",
    "    if s == reversed_s:\n",
    "        print(f\"{s} is a palindrome\")\n",
    "    else:\n",
    "        print(f\"{s} is not a palindrome\")\n",
    "\n",
    "is_palindrome(\"naman\")"
   ]
  },
  {
   "cell_type": "code",
   "execution_count": 46,
   "id": "a33daa53-c3ed-4f4f-b6a7-ac2ce3159c05",
   "metadata": {
    "scrolled": true
   },
   "outputs": [
    {
     "name": "stdout",
     "output_type": "stream",
     "text": [
      "[1, 2, 3]\n",
      "[1, 2, 3, 5]\n",
      "[1, 7, 2, 3, 5]\n",
      "[1, 2, 3, 5]\n",
      "[1, 2, 3]\n",
      "[3, 2, 1]\n",
      "[1, 2, 3]\n",
      "[]\n",
      "[1, 2, 3]\n",
      "2\n",
      "1\n"
     ]
    }
   ],
   "source": [
    "a = [1, 2, 3]\n",
    "print(a)\n",
    "a.append(5)\n",
    "print(a)\n",
    "a.insert(1,7)\n",
    "print(a)\n",
    "a.pop(1)\n",
    "print(a)\n",
    "a.remove(5)\n",
    "print(a)\n",
    "a.reverse()\n",
    "print(a)\n",
    "a.sort()\n",
    "print(a)\n",
    "a.clear()\n",
    "print(a)\n",
    "a.extend([1, 2, 3])\n",
    "print(a)\n",
    "print(a.index(3))\n",
    "print(a.count(1))"
   ]
  },
  {
   "cell_type": "code",
   "execution_count": 53,
   "id": "70f32781-a6c2-4f2b-ab09-84327e4a514a",
   "metadata": {},
   "outputs": [
    {
     "name": "stdout",
     "output_type": "stream",
     "text": [
      "1 is a prime number\n",
      "2 is a prime number\n",
      "3 is a prime number\n",
      "4 is a not prime number\n",
      "5 is a prime number\n",
      "6 is a not prime number\n",
      "7 is a prime number\n",
      "8 is a not prime number\n",
      "9 is a not prime number\n",
      "10 is a not prime number\n",
      "11 is a prime number\n",
      "12 is a not prime number\n",
      "13 is a prime number\n",
      "14 is a not prime number\n",
      "15 is a not prime number\n",
      "16 is a not prime number\n",
      "17 is a prime number\n",
      "18 is a not prime number\n",
      "19 is a prime number\n",
      "20 is a not prime number\n",
      "21 is a not prime number\n",
      "22 is a not prime number\n",
      "23 is a prime number\n",
      "24 is a not prime number\n",
      "25 is a not prime number\n",
      "26 is a not prime number\n",
      "27 is a not prime number\n",
      "28 is a not prime number\n",
      "29 is a prime number\n",
      "30 is a not prime number\n",
      "31 is a prime number\n",
      "32 is a not prime number\n",
      "33 is a not prime number\n",
      "34 is a not prime number\n",
      "35 is a not prime number\n",
      "36 is a not prime number\n",
      "37 is a prime number\n",
      "38 is a not prime number\n",
      "39 is a not prime number\n",
      "40 is a not prime number\n",
      "41 is a prime number\n",
      "42 is a not prime number\n",
      "43 is a prime number\n",
      "44 is a not prime number\n",
      "45 is a not prime number\n",
      "46 is a not prime number\n",
      "47 is a prime number\n",
      "48 is a not prime number\n",
      "49 is a not prime number\n",
      "50 is a not prime number\n"
     ]
    }
   ],
   "source": [
    "l = []\n",
    "i = 1\n",
    "while i<51:\n",
    "    l.append(i)\n",
    "    i+=1\n",
    "\n",
    "for i in l:\n",
    "    if i<1:\n",
    "        continue\n",
    "    for m in range(2, i):\n",
    "        if i%m==0:\n",
    "            print(f\"{i} is a not prime number\")\n",
    "            break\n",
    "\n",
    "    else:\n",
    "        print(f\"{i} is a prime number\")\n",
    "        i+=1"
   ]
  },
  {
   "cell_type": "code",
   "execution_count": 8,
   "id": "d2e0080c-9029-4a00-8d36-a7543458f67a",
   "metadata": {},
   "outputs": [
    {
     "name": "stdin",
     "output_type": "stream",
     "text": [
      "enter number: 5\n"
     ]
    },
    {
     "name": "stdout",
     "output_type": "stream",
     "text": [
      "120\n"
     ]
    }
   ],
   "source": [
    "a = int(input(\"enter number:\"))\n",
    "m=1\n",
    "\n",
    "for i in range(1,a+1):\n",
    "    m=m*i\n",
    "\n",
    "print(m)"
   ]
  },
  {
   "cell_type": "code",
   "execution_count": 20,
   "id": "bcb568fc-7266-468f-944e-3befe7a12e8c",
   "metadata": {},
   "outputs": [
    {
     "name": "stdout",
     "output_type": "stream",
     "text": [
      "<class 'dict'>\n",
      "<class 'set'>\n"
     ]
    }
   ],
   "source": [
    "d = {}\n",
    "print(type(d))\n",
    "\n",
    "s = set()\n",
    "print(type(s))"
   ]
  },
  {
   "cell_type": "code",
   "execution_count": 11,
   "id": "5e67a883-131b-4822-8f99-5bbc99db3de2",
   "metadata": {},
   "outputs": [
    {
     "name": "stdout",
     "output_type": "stream",
     "text": [
      "Original List:\n",
      "[1, 2, 3, 4, 5, 6, 7, 8, 9, 10, 11, 12, 13, 14, 15, 16, 17, 18, 19, 20, 21, 22, 23, 24, 25, 26, 27, 28, 29, 30, 31, 32, 33, 34, 35, 36, 37, 38, 39, 40, 41, 42, 43, 44, 45, 46, 47, 48, 49, 50]\n",
      "\n",
      "Square of List:\n",
      "[1, 4, 9, 16, 25, 36, 49, 64, 81, 100, 121, 144, 169, 196, 225, 256, 289, 324, 361, 400, 441, 484, 529, 576, 625, 676, 729, 784, 841, 900, 961, 1024, 1089, 1156, 1225, 1296, 1369, 1444, 1521, 1600, 1681, 1764, 1849, 1936, 2025, 2116, 2209, 2304, 2401, 2500]\n"
     ]
    }
   ],
   "source": [
    "l = []\n",
    "i = 1\n",
    "while i<51:\n",
    "    l.append(i)\n",
    "    i+=1\n",
    "print(\"Original List:\")\n",
    "print(l)\n",
    "\n",
    "t = 0\n",
    "for m in l: \n",
    "    l[t] = l[t]**2\n",
    "    t+=1\n",
    "print(\"\\nSquare of List:\")\n",
    "print(l)"
   ]
  },
  {
   "cell_type": "code",
   "execution_count": null,
   "id": "3f72fb88-c18e-4c1a-b9ca-4beba40d6037",
   "metadata": {},
   "outputs": [],
   "source": []
  },
  {
   "cell_type": "code",
   "execution_count": null,
   "id": "360d3c36-3e4d-4410-a2d3-a2161554e808",
   "metadata": {},
   "outputs": [],
   "source": []
  }
 ],
 "metadata": {
  "kernelspec": {
   "display_name": "Python [conda env:base] *",
   "language": "python",
   "name": "conda-base-py"
  },
  "language_info": {
   "codemirror_mode": {
    "name": "ipython",
    "version": 3
   },
   "file_extension": ".py",
   "mimetype": "text/x-python",
   "name": "python",
   "nbconvert_exporter": "python",
   "pygments_lexer": "ipython3",
   "version": "3.13.5"
  }
 },
 "nbformat": 4,
 "nbformat_minor": 5
}
